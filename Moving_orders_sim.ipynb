{
 "cells": [
  {
   "cell_type": "code",
   "execution_count": 6,
   "metadata": {},
   "outputs": [],
   "source": [
    "import numpy as np\n",
    "\n",
    "import matplotlib.pyplot as plt\n",
    "plt.style.use('bmh_TGV1')\n",
    "import matplotlib.gridspec as gridspec\n",
    "\n",
    "import string\n",
    "\n",
    "from Optics import Beam, Tilt_beam, Offset_beam\n",
    "from HHG import ActiveGrating"
   ]
  },
  {
   "cell_type": "code",
   "execution_count": 5,
   "metadata": {},
   "outputs": [
    {
     "ename": "TypeError",
     "evalue": "GBeam() missing 2 required positional arguments: 'y' and 'z'",
     "output_type": "error",
     "traceback": [
      "\u001b[1;31m---------------------------------------------------------------------------\u001b[0m",
      "\u001b[1;31mTypeError\u001b[0m                                 Traceback (most recent call last)",
      "Cell \u001b[1;32mIn [5], line 9\u001b[0m\n\u001b[0;32m      6\u001b[0m grid \u001b[39m=\u001b[39m IR\u001b[39m.\u001b[39mFocusGrid(Lx\u001b[39m=\u001b[39m\u001b[39m0.02\u001b[39m, Ly\u001b[39m=\u001b[39m\u001b[39m0.02\u001b[39m, Nx\u001b[39m=\u001b[39m\u001b[39m1000\u001b[39m, Ny\u001b[39m=\u001b[39m\u001b[39m1000\u001b[39m, d\u001b[39m=\u001b[39m\u001b[39m1\u001b[39m)\n\u001b[0;32m      8\u001b[0m E1 \u001b[39m=\u001b[39m IR\u001b[39m.\u001b[39mGBeam(\u001b[39m*\u001b[39mgrid, z\u001b[39m=\u001b[39m\u001b[39m0\u001b[39m)\n\u001b[1;32m----> 9\u001b[0m E2 \u001b[39m=\u001b[39m IR\u001b[39m.\u001b[39mGBeam(Tilt_beam(\u001b[39m*\u001b[39mgrid, z\u001b[39m=\u001b[39m\u001b[39m0\u001b[39m, angle\u001b[39m=\u001b[39mtheta))\n",
      "\u001b[1;31mTypeError\u001b[0m: GBeam() missing 2 required positional arguments: 'y' and 'z'"
     ]
    }
   ],
   "source": [
    "IR = Beam(w0=80e-6, lam=800e-9)\n",
    "\n",
    "theta = 0.025\n",
    "alpha_range = np.linspace(0, 0.3, 100)\n",
    "\n",
    "grid = IR.FocusGrid(Lx=0.02, Ly=0.02, Nx=1000, Ny=1000, d=1)\n",
    "\n",
    "E1 = IR.GBeam(*grid, z=0)\n",
    "E2 = IR.GBeam(Tilt_beam(*grid, z=0, angle=theta))\n",
    "\n"
   ]
  },
  {
   "cell_type": "code",
   "execution_count": null,
   "metadata": {},
   "outputs": [],
   "source": [
    "plt.imshow(E1+E2)"
   ]
  },
  {
   "cell_type": "code",
   "execution_count": null,
   "metadata": {},
   "outputs": [],
   "source": [
    "AG = ActiveGrating(qeff=3.5)"
   ]
  }
 ],
 "metadata": {
  "kernelspec": {
   "display_name": "Python 3.9.13 ('test_env')",
   "language": "python",
   "name": "python3"
  },
  "language_info": {
   "codemirror_mode": {
    "name": "ipython",
    "version": 3
   },
   "file_extension": ".py",
   "mimetype": "text/x-python",
   "name": "python",
   "nbconvert_exporter": "python",
   "pygments_lexer": "ipython3",
   "version": "3.9.13"
  },
  "orig_nbformat": 4,
  "vscode": {
   "interpreter": {
    "hash": "2fa5ef3c6cfa63af6ccc98e0ce4ff8256bf2eb1ce2db6684599d6322383f73ef"
   }
  }
 },
 "nbformat": 4,
 "nbformat_minor": 2
}
