{
 "cells": [
  {
   "cell_type": "code",
   "execution_count": 356,
   "metadata": {},
   "outputs": [],
   "source": [
    "import numpy as np\n",
    "import matplotlib.pyplot as plt\n",
    "from mayavi.mlab import *\n",
    "\n",
    "plt.style.use('bmh_TGV1')\n",
    "import matplotlib.gridspec as gridspec\n",
    "from mpl_toolkits.axes_grid1.inset_locator import inset_axes\n",
    "\n",
    "from scipy.signal import zoom_fft as zoom_fft\n",
    "\n",
    "import Optics"
   ]
  },
  {
   "cell_type": "code",
   "execution_count": 419,
   "metadata": {},
   "outputs": [],
   "source": [
    "\"RICHARDS-WOLF VECTORIAL FOCUSING\"\n",
    "'Following [Leutenegger2006]'\n",
    "\n",
    "\"LIGHT PARAMETERS\"\n",
    "lam = 488e-9\n",
    "k = 2*np.pi/lam\n",
    "IR = Optics.Beam(w0=2e-2, lam=lam)\n",
    "\n",
    "\"LENS PARAMETERS\"\n",
    "f = 10e-2\n",
    "NA = 0.5\n",
    "R = NA*f \n",
    "\n",
    "\"INPUT k GRID\"\n",
    "Nx, Ny = 1024, 1024\n",
    "Lmax = min(f, 1.5*R) # maximum coordinate in the input plane, either limited by the lens size or the aperture\n",
    "kmax = k*Lmax/np.sqrt(Lmax**2+f**2) # maximum transverse wavevector\n",
    "k_grid = IR.Grid(Lx=2*kmax, Ly=2*kmax, Nx=Nx, Ny=Ny)\n",
    "Lkx, Lky = 2*kmax, 2*kmax\n",
    "dkx, dky = Lkx/(Nx-1), Lky/(Ny-1)\n",
    "\n",
    "kx_ax, ky_ax = k_grid[0][0], k_grid[1].T[0] # retrieve axes from meshgrid\n",
    "kx, ky = k_grid\n",
    "kz = np.sqrt(k**2-kx**2-ky**2)\n",
    "\n",
    "# compute x and y axes from the regular k grid\n",
    "x = -(kx/k) * f * (1+ (kx**2+ky**2)/kz**2)**(1/2)\n",
    "y = -(ky/k) * f * (1+ (kx**2+ky**2)/kz**2)**(1/2)"
   ]
  },
  {
   "cell_type": "code",
   "execution_count": 420,
   "metadata": {},
   "outputs": [],
   "source": [
    "'Returns the 3 input field components at a given (x,y) point of the input plane'\n",
    "def Ei(x, y):\n",
    "\n",
    "    # Smooth entrance pupil\n",
    "    r = np.sqrt(x**2+y**2)\n",
    "    dR = R/30\n",
    "    pupil = (1/2)*(1+np.tanh(1.5*(R-r)/dR))\n",
    "\n",
    "    # Three components\n",
    "    Ex = IR.LGBeam(x, y, z=0, l=0, p=0)*pupil\n",
    "    Ey = IR.LGBeam(x, y, z=0, l=0, p=0)*pupil*0\n",
    "    Ez = IR.LGBeam(x, y, z=0, l=0, p=0)*0*pupil\n",
    "\n",
    "    return [Ex, Ey, Ez]\n",
    "\n",
    "def zoom_fft2(M, fnx, fny, fsx, fsy, mx, my):\n",
    "    TFx = zoom_fft(M, fn=fnx, m=mx, fs=fsx, axis=1)\n",
    "    TFxy = zoom_fft(TFx, fn=fny, m=my, fs=fsy, axis=0)\n",
    "    return TFxy\n",
    "\n",
    "def RW(Ei, z, xmin, xmax, ymin, ymax, Mx, My):\n",
    "\n",
    "    r2 = x**2+y**2\n",
    "    l = np.sqrt(r2+f**2) # optical path length from x,y to focus\n",
    "\n",
    "    # input field\n",
    "    Ex, Ey, Ez = Ei\n",
    "\n",
    "    # Rotation of the E field at the lens\n",
    "    Etx = Ex + (x/r2)*((f/l)-1)*( x*Ex + y*Ey ) -(x/l)*Ez\n",
    "    Ety = Ey + (y/r2)*((f/l)-1)*( x*Ex + y*Ey ) -(y/l)*Ez\n",
    "    Etz = (x/l)*Ex + (y/l)*Ey + (f/l)*Ez\n",
    "\n",
    "    # apodization factor for energy conservation\n",
    "    apo = np.sqrt(f/l)\n",
    "    Et = np.array([Etx, Ety, Etz]) * apo\n",
    "\n",
    "    # Definition of the k-space\n",
    "    kz = np.sqrt(k**2-kx**2-ky**2)\n",
    "\n",
    "    # Richards-Wolf integrand\n",
    "    prefactor = -1j*f/(2*np.pi)\n",
    "    factor = np.exp(1j*kz*z)/kz\n",
    "    Etx, Ety, Etz = Et * prefactor * factor\n",
    "\n",
    "    # 2D Fourier transform\n",
    "    Efx = zoom_fft2(Etx, [xmin, xmax], [ymin, ymax], 2*np.pi/dkx, 2*np.pi/dky, Mx, My)\n",
    "    Efx = Efx * dkx * dky\n",
    "    Efy = zoom_fft2(Ety, [xmin, xmax], [ymin, ymax], 2*np.pi/dkx, 2*np.pi/dky, Mx, My)\n",
    "    Efy = Efy * dkx * dky\n",
    "    Efz = zoom_fft2(Etz, [xmin, xmax], [ymin, ymax], 2*np.pi/dkx, 2*np.pi/dky, Mx, My)\n",
    "    Efz = Efz * dkx * dky\n",
    "\n",
    "    field = np.array([Efx, Efy, Efz])\n",
    "\n",
    "    # Compute the conjugate axes\n",
    "    FT_x_axis = np.linspace(xmin, xmax, Mx, endpoint=False)\n",
    "    FT_y_axis = np.linspace(ymin, ymax, My, endpoint=False)\n",
    "    FT_grid = np.meshgrid(FT_x_axis, FT_y_axis)\n",
    "\n",
    "    return field, FT_grid\n"
   ]
  },
  {
   "cell_type": "code",
   "execution_count": 421,
   "metadata": {},
   "outputs": [],
   "source": [
    "xmin, xmax = -3e-6, 3e-6\n",
    "ymin, ymax = -3e-6, 3e-6\n",
    "Mx, My = 1024, 1024\n",
    "input = Ei(x, y)\n",
    "\n",
    "test, tgrid = RW(input, 0, xmin, xmax, ymin, ymax, Mx, My)"
   ]
  },
  {
   "cell_type": "code",
   "execution_count": 422,
   "metadata": {},
   "outputs": [
    {
     "data": {
      "text/plain": [
       "<matplotlib.image.AxesImage at 0x1c7d8d9fc70>"
      ]
     },
     "execution_count": 422,
     "metadata": {},
     "output_type": "execute_result"
    }
   ],
   "source": [
    "%matplotlib qt\n",
    "fig, ax = plt.subplots(2, 3)\n",
    "cmap='nipy_spectral'\n",
    "\n",
    "Efx, Efy, Efz = test\n",
    "u, v = tgrid[0][0], tgrid[1].T[0]\n",
    "extentuv=[u[0], u[-1], v[0], v[-1]]\n",
    "\n",
    "regular_grid = IR.Grid(Lx=2*Lmax, Ly=2*Lmax, Nx=Nx, Ny=Ny)\n",
    "Eix, Eiy, Eiz = Ei(*regular_grid)\n",
    "extentxy=[-Lmax, Lmax, -Lmax, Lmax]\n",
    "\n",
    "ax[0, 0].imshow(np.abs(Eix), extent=extentxy, origin='lower', cmap=cmap)\n",
    "ax[0, 1].imshow(np.abs(Eiy), extent=extentxy, origin='lower', cmap=cmap, vmax=np.max(np.abs(Eix)))\n",
    "ax[0, 2].imshow(np.abs(Eiz), extent=extentxy, origin='lower', cmap=cmap, vmax=np.max(np.abs(Eix)))\n",
    "\n",
    "ax[1, 0].imshow(np.abs(Efx), extent=extentuv, origin='lower', cmap=cmap)\n",
    "ax[1, 1].imshow(np.abs(Efy), extent=extentuv, origin='lower', cmap=cmap, vmax=np.max(np.abs(Efx)))\n",
    "ax[1, 2].imshow(np.abs(Efz), extent=extentuv, origin='lower', cmap=cmap, vmax=np.max(np.abs(Efx)))"
   ]
  },
  {
   "cell_type": "code",
   "execution_count": 354,
   "metadata": {},
   "outputs": [],
   "source": [
    "z_grid = np.linspace(-20*lam, 20*lam, 50)\n",
    "\n",
    "E_list=[]\n",
    "for z in z_grid:\n",
    "    xmin, xmax = -3e-6, 3e-6\n",
    "    ymin, ymax = -3e-6, 3e-6\n",
    "    Mx, My = 512, 512\n",
    "    input = Ei(x, y)\n",
    "    test, tgrid = RW(input, z, xmin, xmax, ymin, ymax, Mx, My)\n",
    "    Ex, Ey, Ez = test\n",
    "    E = np.sqrt(np.abs(Ex**2)+np.abs(Ey**2)+np.abs(Ez**2))\n",
    "    E_list.append(E**2)\n",
    "\n",
    "E_list=np.array(E_list)"
   ]
  },
  {
   "cell_type": "code",
   "execution_count": 355,
   "metadata": {},
   "outputs": [
    {
     "data": {
      "text/plain": [
       "<mayavi.modules.iso_surface.IsoSurface at 0x1c7bf6b55e0>"
      ]
     },
     "execution_count": 355,
     "metadata": {},
     "output_type": "execute_result"
    }
   ],
   "source": [
    "from mayavi.mlab import *\n",
    "E_list = E_list / np.max(E_list)\n",
    "contourlist = [1/np.e, 1/np.e**2, 1/np.e**3, 1/np.e**4]\n",
    "contour3d(E_list,contours=contourlist,opacity=.2 )"
   ]
  }
 ],
 "metadata": {
  "kernelspec": {
   "display_name": "Python 3.9.13 ('test_env')",
   "language": "python",
   "name": "python3"
  },
  "language_info": {
   "codemirror_mode": {
    "name": "ipython",
    "version": 3
   },
   "file_extension": ".py",
   "mimetype": "text/x-python",
   "name": "python",
   "nbconvert_exporter": "python",
   "pygments_lexer": "ipython3",
   "version": "3.9.13"
  },
  "orig_nbformat": 4,
  "vscode": {
   "interpreter": {
    "hash": "2fa5ef3c6cfa63af6ccc98e0ce4ff8256bf2eb1ce2db6684599d6322383f73ef"
   }
  }
 },
 "nbformat": 4,
 "nbformat_minor": 2
}
