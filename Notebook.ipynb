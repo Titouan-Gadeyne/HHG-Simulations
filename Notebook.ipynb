{
 "cells": [
  {
   "cell_type": "code",
   "execution_count": 1,
   "metadata": {},
   "outputs": [],
   "source": [
    "import numpy as np\n",
    "import matplotlib.pyplot as plt\n",
    "\n",
    "from Beams import Beam, Mask\n",
    "from Graph import ShowField\n",
    "\n"
   ]
  },
  {
   "cell_type": "code",
   "execution_count": 4,
   "metadata": {},
   "outputs": [],
   "source": [
    "IR = Beam(w0=1e-2, lam=800e-9)\n",
    "Mask1 = Mask()\n",
    "\n",
    "f = 50e-2\n",
    "\n",
    "grid_0 = IR.FocusGrid(Lx=100e-6, Ly=100e-6, Nx=1001, Ny=1001, d=f)\n",
    "field_0 = IR.GBeam(*grid_0, z=0) * Mask1.ZeroPi(*grid_0)\n",
    "field_0 = IR.Lens(field_0, grid_0, f)\n",
    "field_d, grid_d = IR.Fresnel(field_0, grid_0, d=f)\n",
    "\n",
    "%matplotlib qt\n",
    "fig_0 = ShowField(field_0, grid_0)\n",
    "fig_d = ShowField(field_d, grid_d)"
   ]
  },
  {
   "cell_type": "code",
   "execution_count": 3,
   "metadata": {},
   "outputs": [
    {
     "data": {
      "text/plain": [
       "392.69908169872417"
      ]
     },
     "execution_count": 3,
     "metadata": {},
     "output_type": "execute_result"
    }
   ],
   "source": [
    "IR.zR"
   ]
  }
 ],
 "metadata": {
  "kernelspec": {
   "display_name": "Python 3.9.13 ('test_env')",
   "language": "python",
   "name": "python3"
  },
  "language_info": {
   "codemirror_mode": {
    "name": "ipython",
    "version": 3
   },
   "file_extension": ".py",
   "mimetype": "text/x-python",
   "name": "python",
   "nbconvert_exporter": "python",
   "pygments_lexer": "ipython3",
   "version": "3.9.13"
  },
  "orig_nbformat": 4,
  "vscode": {
   "interpreter": {
    "hash": "2fa5ef3c6cfa63af6ccc98e0ce4ff8256bf2eb1ce2db6684599d6322383f73ef"
   }
  }
 },
 "nbformat": 4,
 "nbformat_minor": 2
}
