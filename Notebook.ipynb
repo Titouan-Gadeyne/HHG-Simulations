{
 "cells": [
  {
   "cell_type": "code",
   "execution_count": 20,
   "metadata": {},
   "outputs": [],
   "source": [
    "import numpy as np\n",
    "import matplotlib.pyplot as plt\n",
    "\n",
    "from Beams import Beam\n",
    "\n"
   ]
  },
  {
   "cell_type": "code",
   "execution_count": 23,
   "metadata": {},
   "outputs": [
    {
     "ename": "AttributeError",
     "evalue": "'Beam' object has no attribute 'GBeam'",
     "output_type": "error",
     "traceback": [
      "\u001b[1;31m---------------------------------------------------------------------------\u001b[0m",
      "\u001b[1;31mAttributeError\u001b[0m                            Traceback (most recent call last)",
      "Cell \u001b[1;32mIn [23], line 15\u001b[0m\n\u001b[0;32m     12\u001b[0m y_axis \u001b[39m=\u001b[39m np\u001b[39m.\u001b[39mlinspace(\u001b[39m-\u001b[39mLy\u001b[39m/\u001b[39m\u001b[39m2\u001b[39m, Ly\u001b[39m/\u001b[39m\u001b[39m2\u001b[39m, N) \n\u001b[0;32m     13\u001b[0m grid \u001b[39m=\u001b[39m np\u001b[39m.\u001b[39mmeshgrid(x_axis, y_axis)\n\u001b[1;32m---> 15\u001b[0m field \u001b[39m=\u001b[39m IR\u001b[39m.\u001b[39mGBeam(\u001b[39m*\u001b[39mgrid, z\u001b[39m=\u001b[39m\u001b[39m0\u001b[39m)\n\u001b[0;32m     17\u001b[0m plt\u001b[39m.\u001b[39mimshow(field)\n",
      "\u001b[1;31mAttributeError\u001b[0m: 'Beam' object has no attribute 'GBeam'"
     ]
    }
   ],
   "source": [
    "IR = Beam(w0=50e-6, lam=800e-9)\n",
    "\n",
    "w0 = 50e-9\n",
    "\n",
    "N  = 2501        # number of pixels on a side, use an odd number to have a point at zero\n",
    "Lx = 150*w0       # length of the box in the x direction (m)\n",
    "Ly = 150*w0       # length of the box in the y direction (m)\n",
    "dx = Lx/(N-1)    # sampling rate along x\n",
    "dy = Ly/(N-1)    # sampling rate along y\n",
    "\n",
    "x_axis = np.linspace(-Lx/2, Lx/2, N) \n",
    "y_axis = np.linspace(-Ly/2, Ly/2, N) \n",
    "grid = np.meshgrid(x_axis, y_axis)\n",
    "\n",
    "field = IR.GBeam(*grid, z=0)\n",
    "\n",
    "plt.imshow(field)\n",
    "\n",
    "#z0 = 0*zR\n",
    "#z  = 100*zR\n",
    "\n",
    "#field_0 = LGBeam(*grid, z0, 0, 0)\n",
    "\n",
    "#field_z, FT_grid = Propagate_Fresnel(field_0, z-z0, grid)\n",
    "#field_z_frau, FT_grid = Propagate_Fraunhofer(field_0, z-z0, grid)\n",
    "\n",
    "#exact_z = LGBeam(*FT_grid, z, 0, 0)"
   ]
  }
 ],
 "metadata": {
  "kernelspec": {
   "display_name": "Python 3.9.13 ('test_env')",
   "language": "python",
   "name": "python3"
  },
  "language_info": {
   "codemirror_mode": {
    "name": "ipython",
    "version": 3
   },
   "file_extension": ".py",
   "mimetype": "text/x-python",
   "name": "python",
   "nbconvert_exporter": "python",
   "pygments_lexer": "ipython3",
   "version": "3.9.13"
  },
  "orig_nbformat": 4,
  "vscode": {
   "interpreter": {
    "hash": "2fa5ef3c6cfa63af6ccc98e0ce4ff8256bf2eb1ce2db6684599d6322383f73ef"
   }
  }
 },
 "nbformat": 4,
 "nbformat_minor": 2
}
