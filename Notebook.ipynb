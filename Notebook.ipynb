{
 "cells": [
  {
   "cell_type": "code",
   "execution_count": 1,
   "metadata": {},
   "outputs": [],
   "source": [
    "import numpy as np\n",
    "import matplotlib.pyplot as plt\n",
    "\n",
    "from Beams import Beam, Mask, Tilt_beam, Offset_beam\n",
    "from HHG import ActiveGrating\n",
    "import Graph\n",
    "\n"
   ]
  },
  {
   "cell_type": "code",
   "execution_count": 2,
   "metadata": {},
   "outputs": [
    {
     "name": "stderr",
     "output_type": "stream",
     "text": [
      "c:\\Users\\tg263331\\Desktop\\Dossiers\\Python\\HHG Simulation\\HHG-Simulations\\Beams.py:17: RuntimeWarning: divide by zero encountered in divide\n",
      "  return np.where( (z!=0) , z*(1 + (self.zR/z)**2), np.inf)\n",
      "c:\\Users\\tg263331\\Desktop\\Dossiers\\Python\\HHG Simulation\\HHG-Simulations\\Beams.py:17: RuntimeWarning: invalid value encountered in multiply\n",
      "  return np.where( (z!=0) , z*(1 + (self.zR/z)**2), np.inf)\n"
     ]
    }
   ],
   "source": [
    "IR1 = Beam(w0=80e-6, lam=800e-9)\n",
    "IR2 = Beam(w0=80e-6, lam=800e-9)\n",
    "q = 15\n",
    "XUV = Beam(w0=1, lam=IR1.lam/q)\n",
    "HHG = ActiveGrating(qeff=3.5)\n",
    "\n",
    "theta = 0.040\n",
    "alpha1 = 1\n",
    "alpha2 = 0.35\n",
    "\n",
    "grid_0 = XUV.FocusGrid(Lx=3e-2, Ly=15e-2, Nx=601, Ny=3001, d=1)\n",
    "IR1 = IR1.HGBeam(*grid_0, z=0, m=0, n=1)\n",
    "IR2 = IR2.GBeam(*Offset_beam(*Tilt_beam(*grid_0, z=0, angle=theta), x0=0, y0=100e-6))\n",
    "IRfield = alpha1*IR1 + alpha2*IR2\n",
    "\n",
    "XUV_NF = HHG.Hq_NearField(IRfield, q)\n",
    "XUV_FF, grid_FF = XUV.Fraunhofer(XUV_NF, grid_0, d=1)\n",
    "\n",
    "%matplotlib qt\n",
    "fig = Graph.ShowHHG(IRfield, XUV_NF, XUV_FF, grid_0, grid_FF)"
   ]
  },
  {
   "cell_type": "code",
   "execution_count": 3,
   "metadata": {},
   "outputs": [
    {
     "data": {
      "text/plain": [
       "(-0.01, 0.01)"
      ]
     },
     "execution_count": 3,
     "metadata": {},
     "output_type": "execute_result"
    }
   ],
   "source": [
    "fig2 = Graph.OrdersLineout(XUV_FF, grid_FF, q, theta)\n",
    "ax = fig2.get_axes()[0]\n",
    "ax.set_xlim(-10e-3, 10e-3)"
   ]
  },
  {
   "cell_type": "code",
   "execution_count": 2,
   "metadata": {},
   "outputs": [],
   "source": [
    "IR1 = Beam(w0=2e-2, lam=800e-9)\n",
    "IR2 = Beam(w0=2e-2, lam=800e-9)\n",
    "q = 15\n",
    "XUV = Beam(w0=1, lam=IR1.lam/q)\n",
    "HHG = ActiveGrating(qeff=3.5)\n",
    "\n",
    "Iris1 = Mask()\n",
    "\n",
    "theta = 0.040\n",
    "alpha1 = 1\n",
    "alpha2 = 1\n",
    "\n",
    "f=100e-2\n",
    "\n",
    "grid_0 = IR1.FocusGrid(Lx=5e-4, Ly=5e-4, Nx=1001, Ny=1001, d=f)\n",
    "E1 = IR1.HGBeam(*grid_0, z=0, m=0, n=0)\n",
    "E1 = IR1.Lens(E1, grid_0, f=f)\n",
    "E1 = E1 * Iris1.Iris(*grid_0, 1e-2)\n",
    "E1, grid_f = IR1.Fresnel(E1, grid_0, d=f)\n",
    "\n",
    "E2 = IR2.HGBeam(*grid_0, z=0, m=0, n=0)\n",
    "E2 = IR2.Lens(E2, grid_0, f=f)\n",
    "E2 = E2 * Iris1.Iris(*grid_0, 8e-3)\n",
    "E2, grid_f = IR2.Fresnel(E2, grid_0, d=f)\n",
    "E2 = IR2.PhaseGrating(*grid_f, E2, theta*1)\n",
    "\n",
    "IRfield = alpha1*E1 + alpha2*E2\n",
    "\n",
    "XUV_NF = HHG.Hq_NearField(IRfield, q)\n",
    "XUV_FF, grid_FF = XUV.Fraunhofer(XUV_NF, grid_f, d=1)\n",
    "\n",
    "%matplotlib qt\n",
    "fig = Graph.ShowHHG(IRfield, XUV_NF, XUV_FF, grid_f, grid_FF)"
   ]
  },
  {
   "cell_type": "code",
   "execution_count": 24,
   "metadata": {},
   "outputs": [
    {
     "data": {
      "text/plain": [
       "<matplotlib.image.AxesImage at 0x2d5887d35e0>"
      ]
     },
     "execution_count": 24,
     "metadata": {},
     "output_type": "execute_result"
    }
   ],
   "source": [
    "plt.imshow(np.angle(E2))"
   ]
  }
 ],
 "metadata": {
  "kernelspec": {
   "display_name": "Python 3.9.13 ('test_env')",
   "language": "python",
   "name": "python3"
  },
  "language_info": {
   "codemirror_mode": {
    "name": "ipython",
    "version": 3
   },
   "file_extension": ".py",
   "mimetype": "text/x-python",
   "name": "python",
   "nbconvert_exporter": "python",
   "pygments_lexer": "ipython3",
   "version": "3.9.13"
  },
  "orig_nbformat": 4,
  "vscode": {
   "interpreter": {
    "hash": "2fa5ef3c6cfa63af6ccc98e0ce4ff8256bf2eb1ce2db6684599d6322383f73ef"
   }
  }
 },
 "nbformat": 4,
 "nbformat_minor": 2
}
